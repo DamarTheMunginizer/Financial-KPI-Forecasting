











import pandas_datareader.data as web
import pandas as pd
import matplotlib.pyplot as plt
from datetime import datetime


# Time range
start = datetime(2014, 1, 1)
end = datetime(2024, 12, 31)


# Pull U.S. Retail Sales from FRED
retail_sales = web.DataReader('RSXFS', 'fred', start, end)


# View the size of the data
retail_sales.shape


# View U.S. Retail 
retail_sales.head()


# View U.S. Retail ending
retail_sales.tail()


# Check for Null Values
retail_sales.info()


# View U.S. Retail Statistics
retail_sales.describe()


# Drop NAs and visualize
retail_sales.dropna(inplace=True)
retail_sales.plot(title='U.S. Retail Sales (2014–2024)', figsize=(12, 6))
plt.xlabel('Date')
plt.ylabel('Retail Sales (in millions USD)')
plt.grid(True)
plt.show()





# View Rolling Averages To The Actual Price
retail_sales['rolling_3'] = retail_sales['RSXFS'].rolling(window=3).mean()
retail_sales['rolling_6'] = retail_sales['RSXFS'].rolling(window=6).mean()

retail_sales[['RSXFS', 'rolling_3', 'rolling_6']].plot(
    figsize=(14,6),
    title='Retail Sales with 3-Month and 6-Month Rolling Averages'
)
plt.xlabel("Date")
plt.ylabel("Retail Sales (Millions USD)")
plt.grid(True)
plt.show()


#Import seasonal decompose and View month to month
from statsmodels.tsa.seasonal import seasonal_decompose

retail_sales['change'] = retail_sales['RSXFS'].diff()

retail_sales['change'].plot(
    figsize=(12, 4),
    title='Month to Month Change in Retail Sales'
)
plt.axhline(0, color='red', linestyle='--')
plt.ylabel("Change in Sales")
plt.grid(True)
plt.show()


# View U.S. Retail Trend, Seasonality, Residuals
result = seasonal_decompose(retail_sales['RSXFS'], model='additive', period=12)
result.plot()
plt.suptitle('Seasonal Decomposition of U.S. Retail Sales')
plt.tight_layout()
plt.show()





# Import adfuller
from statsmodels.tsa.stattools import adfuller

# Run ADF test
result = adfuller(retail_sales['RSXFS'])

print('ADF Statistic:', result[0])
print('p-value:', result[1])
for key, value in result[4].items():
    print(f'Critical Value ({key}): {value}')





# Create New Column For the first order differences
retail_sales['RSXFS_diff'] = retail_sales['RSXFS'].diff()
retail_sales.dropna(inplace=True)


# Run ADF Test
result_diff = adfuller(retail_sales['RSXFS_diff'])
print('Differenced ADF Statistic:', result_diff[0])
print('p-value:', result_diff[1])








# Install pmdarima
# pip install pmdarima


# Import auto arima from the install
from pmdarima import auto_arima

# Run auto_arima on differenced data (skip if already stationary)
model = auto_arima(retail_sales['RSXFS'], 
                   start_p=1, start_q=1,
                   max_p=3, max_q=3,
                   seasonal=False,
                   d=1,
                   trace=True, 
                   error_action='ignore', 
                   suppress_warnings=True, 
                   stepwise=True)

print("AIC Score:", model.aic())
model.summary()





# Forecast
n_periods = 24
forecast, conf_int = model.predict(n_periods=n_periods, return_conf_int=True)


# View Predictions 
forecast.head()


# Import numpy
import numpy as np

# Forecast
n_periods = 24
forecast, conf_int = model.predict(n_periods=n_periods, return_conf_int=True)

# Create future datetime index
last_date = retail_sales.index[-1]
future_dates = pd.date_range(start=last_date + pd.DateOffset(months=1), periods=n_periods, freq='m')

# Clean forecast DataFrame
forecast=np.array(forecast).reshape(-1)
forecast_df = pd.DataFrame({
    'Forecast': forecast,
    'Lower CI': conf_int[:, 0],
    'Upper CI': conf_int[:, 1]
}, index=future_dates)

forecast_df.head()





# Import Visual
import matplotlib.pyplot as plt

plt.figure(figsize=(14, 6))

# Plot historical retail sales
plt.plot(retail_sales['RSXFS'], label='Historical Sales')

# Plot forecast
plt.plot(forecast_df['Forecast'], label='Forecast', color='red')

# Fill confidence interval
plt.fill_between(forecast_df.index, 
                 forecast_df['Lower CI'], 
                 forecast_df['Upper CI'], 
                 color='orange', alpha=0.2, label='95% Confidence Interval')

plt.title('U.S. Retail Sales Forecast (ARIMA)')
plt.xlabel('Date')
plt.ylabel('Retail Sales (Millions USD)')
plt.legend()
plt.grid(True)
plt.tight_layout()

# Save the plot
plt.savefig('financial_analyst_project/visualz/forecast_plot.png')
plt.show()





from sklearn.metrics import mean_squared_error

residuals = model.resid()

plt.figure(figsize=(12, 4))
plt.plot(residuals)
plt.title("Residuals")
plt.grid(True)
plt.show()

residuals.plot(kind='kde', title='Residual Density')
plt.grid(True)
plt.show()

rmse = np.sqrt(mean_squared_error(retail_sales['RSXFS'], model.predict_in_sample()))
print(f"In-sample RMSE: {rmse:.2f}")





# Perform decomposition
decomp = seasonal_decompose(retail_sales['RSXFS'], model='additive', period=12)

# Seasonal Component
plt.figure(figsize=(12, 4))
plt.plot(decomp.seasonal, color='purple')
plt.title('Seasonal Component')
plt.grid(True)
plt.tight_layout()

# Save the plot
plt.savefig('financial_analyst_project/visualz/forecast_plot.png')
plt.show()






